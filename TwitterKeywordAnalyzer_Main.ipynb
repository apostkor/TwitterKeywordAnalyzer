{
 "cells": [
  {
   "cell_type": "markdown",
   "metadata": {},
   "source": [
    "##Twitter 단어 분석 APP입니다. \n",
    "\n",
    "**by Sun-il Kim**\n",
    "*2019-01-10*\n",
    "\n",
    "[github MachineLearningSamples](https://github.com/apostkor/MachineLearningSamples)\n",
    "\n",
    "> 주석은 상단에 표시\n",
    "\n",
    "**필요 모듈**\n",
    "- tweepy -> pip install tweepy\n",
    "- TextBlob -> pip install textblob \n",
    " - 추가로 python -m textblob.download_corpora로 분석 데이터도 받아와야 합니다. \n",
    " "
   ]
  },
  {
   "cell_type": "code",
   "execution_count": null,
   "metadata": {},
   "outputs": [],
   "source": [
    "\n",
    "# 트위터 API의 커스터머키와 엑세스토큰을 인터넷상에 공개하는 것을 막기 위해 \n",
    "# 환경변수에 키를 추가하고 os 모듈로 불러와 사용합니다. \n",
    "import config\n",
    "import tweepy \n",
    "from textblob import TextBlob\n",
    "\n",
    "\n",
    "# 커스터머키\n",
    "consumer_key = config.api_key\n",
    "consumer_secret = config.api_secret\n",
    "# 엑세스토큰\n",
    "access_token = config.access_token\n",
    "access_token_secret = config.token_secret\n",
    "\n",
    "auth = tweepy.OAuthHandler(consumer_key, consumer_secret)\n",
    "api = tweepy.API(auth)\n",
    "\n",
    "q = input(\"분석할 검색어를 입력하세요 > \")\n",
    "public_tweets = api.search('q',lang='en',count='100')\n",
    "\n",
    "sum = 0\n",
    "\n",
    "positive_count = 0\n",
    "neutral_count = 0\n",
    "negative_count = 0\n",
    "\n",
    "for tweet in public_tweets:\n",
    "    \n",
    "    #print(tweet.text)\n",
    "    analysis = TextBlob(tweet.text)\n",
    "    #print(analysis.sentiment.polarity)\n",
    "   \n",
    "    if analysis.sentiment.polarity > 0.0:\n",
    "        positive_count = positive_count + 1\n",
    "        sample_pos = analysis\n",
    "    elif analysis.sentiment.polarity == 0.0:\n",
    "        neutral_count = neutral_count+1\n",
    "    else:\n",
    "        negative_count = negative_count + 1\n",
    "        sample_neg = analysis\n",
    "   \n",
    "\n",
    "\n",
    "print (\"ㄴ 상기 검색어 \\\"{}\\\"에 대해서 분석을 실시합니다!\\n\".format(q))\n",
    "\n",
    "print (\"---------------------여론 분석----------------------\")\n",
    "print (\"약 {}% 의 트윗이 긍정적입니다!\".format(positive_count))\n",
    "print (\"약 {}% 의 트윗이 중립적입니다!\".format(neutral_count))\n",
    "print (\"약 {}% 의 트윗이 부정적입니다!\\n\".format(negative_count))\n",
    "\n",
    "print (\"---------------------트윗 예시----------------------\")\n",
    "print (\"긍정적 트윗 예시:\", sample_pos)\n",
    "print (\"부정적 트윗 예시:\", sample_neg)"
   ]
  },
  {
   "cell_type": "code",
   "execution_count": null,
   "metadata": {},
   "outputs": [],
   "source": []
  },
  {
   "cell_type": "code",
   "execution_count": null,
   "metadata": {},
   "outputs": [],
   "source": []
  }
 ],
 "metadata": {
  "kernelspec": {
   "display_name": "TensorFlow-GPU",
   "language": "python",
   "name": "tf-gpu"
  },
  "language_info": {
   "codemirror_mode": {
    "name": "ipython",
    "version": 3
   },
   "file_extension": ".py",
   "mimetype": "text/x-python",
   "name": "python",
   "nbconvert_exporter": "python",
   "pygments_lexer": "ipython3",
   "version": "3.6.8"
  }
 },
 "nbformat": 4,
 "nbformat_minor": 2
}
