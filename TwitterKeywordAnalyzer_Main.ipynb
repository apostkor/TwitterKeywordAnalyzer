{
 "cells": [
  {
   "cell_type": "markdown",
   "metadata": {},
   "source": [
    "##Twitter 단어 분석 APP입니다. \n",
    "\n",
    "**by Sun-il Kim**\n",
    "*2019-01-10*\n",
    "\n",
    "[github MachineLearningSamples](https://github.com/apostkor/MachineLearningSamples)\n",
    "\n",
    "> 주석은 상단에 표시\n",
    "\n",
    "**필요 모듈**\n",
    "- tweepy -> pip install tweepy\n",
    "- TextBlob -> pip install textblob \n",
    " - 추가로 python -m textblob.download_corpora로 분석 데이터도 받아와야 합니다. \n",
    " "
   ]
  },
  {
   "cell_type": "code",
   "execution_count": 96,
   "metadata": {},
   "outputs": [
    {
     "name": "stdout",
     "output_type": "stream",
     "text": [
      "분석할 검색어를 입력하세요 > 트럼프\n"
     ]
    }
   ],
   "source": [
    "# 트위터 API의 커스터머키와 엑세스토큰을 인터넷상에 공개하는 것을 막기 위해 \n",
    "# config.py를 만들어 키를 저장하고 .gitignore를 통해 업로드되지 않게 하였습니다. \n",
    "import config\n",
    "import tweepy \n",
    "from textblob import TextBlob\n",
    "# 입력받은 단어를 조금이라도 더 정확하게 번역받기 위해 구글 번역 API를 이용합니다.\n",
    "from googletrans import Translator\n",
    "#from translate import Translator\n",
    "\n",
    "############################   인증     ############################\n",
    "# 커스터머키\n",
    "consumer_key = config.api_key\n",
    "consumer_secret = config.api_secret\n",
    "# 엑세스토큰\n",
    "access_token = config.access_token\n",
    "access_token_secret = config.token_secret\n",
    "# 트위터 개발자 계정 인증\n",
    "auth = tweepy.OAuthHandler(consumer_key, consumer_secret)\n",
    "api = tweepy.API(auth)\n",
    "###################################################################\n"
   ]
  },
  {
   "cell_type": "markdown",
   "metadata": {},
   "source": [
    "**필요한 모듈 import 후 트위터 인증절차**"
   ]
  },
  {
   "cell_type": "code",
   "execution_count": 134,
   "metadata": {
    "scrolled": false
   },
   "outputs": [
    {
     "name": "stdout",
     "output_type": "stream",
     "text": [
      "분석할 검색어를 입력하세요(한글) > 트럼프\n",
      "ㄴ 상기 검색어 \"트럼프\" 즉 \"Trump\"에 대해서 분석을 실시합니다!\n",
      "\n"
     ]
    }
   ],
   "source": [
    "# 무료 구글 번역 모듈을 가져옵니다. \n",
    "# re는 현재 무료 구글 번역 모듈이 이모티콘 번역시 오류가 나기 때문에 유니코드를 재컴파일 하는 용도로 사용됩니다. \n",
    "import re\n",
    "from googletrans import Translator\n",
    "\n",
    "# 분석할 검색어 입력\n",
    "ko_keyword = input(\"분석할 검색어를 입력하세요(한글) > \")\n",
    "\n",
    "# 구글 번역 모듈 초기화\n",
    "translator = Translator()\n",
    "en_keyword = translator.translate(ko_keyword, dest='en', src='auto')\n",
    "en_keyword = en_keyword.text\n",
    "\n",
    "print (\"ㄴ 상기 검색어 \\\"{}\\\" 즉 \\\"{}\\\"에 대해서 분석을 실시합니다!\\n\".format(ko_keyword, en_keyword))\n",
    "\n",
    "\n",
    "# tweepy API의 .seach() 파라미터를 검색, lang(언어) 과 count(받아오는 트윗 수) 지정\n",
    "public_tweets_ko = api.search(ko_keyword,lang='ko',count='100')\n",
    "public_tweets_en = api.search(en_keyword,lang='en',count='100')\n",
    "\n",
    "\n",
    "# 한글 검색자료를 TextBlob에 적용시키기 위해 다시 영어로 번역해옵니다. \n",
    "for tweet in public_tweets_ko:\n",
    "    # 이모티콘을 제거하여 오류를 제거합니다.\n",
    "    temp = tweet.text\n",
    "    RE_EMOJI = re.compile('[\\U00010000-\\U0010ffff]', flags=re.UNICODE)\n",
    "    temp = RE_EMOJI.sub(r'', temp)\n",
    "    # 구글 번역 모듈로 번역을 진행합니다. \n",
    "    temp = translator.translate(temp, dest='en', src='auto')\n",
    "    tweet.text = temp.text\n",
    "    # API 구조를 이해해야 합니다. "
   ]
  },
  {
   "cell_type": "markdown",
   "metadata": {},
   "source": [
    "**데이터를 받아 번역을 하고 정제하는 과정입니다**"
   ]
  },
  {
   "cell_type": "code",
   "execution_count": 135,
   "metadata": {},
   "outputs": [
    {
     "name": "stdout",
     "output_type": "stream",
     "text": [
      "--------------------- 국내 여론 분석----------------------\n",
      "약 17% 의 트윗이 긍정적입니다!\n",
      "약 26% 의 트윗이 중립적입니다!\n",
      "약 23% 의 트윗이 부정적입니다!\n",
      "\n",
      "--------------------- 국내 트윗 예시----------------------\n",
      "긍정적 트윗 예시:\n",
      " RT @ scy200: Trump is in trouble with Kim Jung-eun, and now it seems to know the fact that the Korean economy, which has been tortured and retaliated by the retaliation of Turkey, seems to free fall. We struggle to help North Korea ...\n",
      "부정적 트윗 예시:\n",
      " Trump tells me that the White House secret media has taken off!\n",
      "I swear the Gregorians.\n",
      "One that looks like us!\n",
      "\n",
      "--------------------- 해외 여론 분석----------------------\n",
      "약 32% 의 트윗이 긍정적입니다!\n",
      "약 46% 의 트윗이 중립적입니다!\n",
      "약 20% 의 트윗이 부정적입니다!\n",
      "\n",
      "--------------------- 해외 트윗 예시----------------------\n",
      "긍정적 트윗 예시:\n",
      " RT @ggreenwald: Will this rather obviously significant correction change any of the claims made about this story yesterday? To pose the que…\n",
      "부정적 트윗 예시:\n",
      " RT @BillKristol: Why the sudden decision in December by Trump to shut down the government over the wall? Trump had no idea of how to deal w…\n"
     ]
    }
   ],
   "source": [
    "# 번역된 한글 검색자료를 분석하여 저장합니다. \n",
    "# 카운터를 만들어 얼마나 긍정적이었고 부정적이었는지를 숫자로 확인해봅니다.\n",
    "ko_positive_count = 0\n",
    "ko_neutral_count = 0\n",
    "ko_negative_count = 0\n",
    "for tweet in public_tweets_ko:\n",
    "    \n",
    "    #print(tweet.text)\n",
    "    ko_analysis = TextBlob(tweet.text)\n",
    "    #print(ko_analysis.sentiment.polarity)\n",
    "    if ko_analysis.sentiment.polarity > 0.0: #긍정적\n",
    "        ko_positive_count = ko_positive_count + 1\n",
    "        ko_sample_pos = ko_analysis\n",
    "    elif ko_analysis.sentiment.polarity == 0.0: #중립적\n",
    "        ko_neutral_count = ko_neutral_count+1\n",
    "    else:\n",
    "        ko_negative_count = ko_negative_count + 1 #부정적\n",
    "        ko_sample_neg = ko_analysis\n",
    "    \n",
    "# 영어 검색자료를 분석하여 저장합니다. \n",
    "en_positive_count = 0\n",
    "en_neutral_count = 0\n",
    "en_negative_count = 0\n",
    "\n",
    "\n",
    "for tweet in public_tweets_en:\n",
    "    \n",
    "    #print(tweet.text)\n",
    "    en_analysis = TextBlob(tweet.text)\n",
    "    #print(analysis.sentiment.polarity)\n",
    "   \n",
    "    if en_analysis.sentiment.polarity > 0.0: #긍정적\n",
    "        en_positive_count = en_positive_count + 1\n",
    "        en_sample_pos = en_analysis\n",
    "    elif en_analysis.sentiment.polarity == 0.0: #중립적\n",
    "        en_neutral_count = en_neutral_count+1\n",
    "    else:\n",
    "        en_negative_count = en_negative_count + 1 #부정적\n",
    "        en_sample_neg = en_analysis\n",
    "   \n",
    "\n",
    "print (\"--------------------- 국내 여론 분석----------------------\")\n",
    "print (\"약 {}% 의 트윗이 긍정적입니다!\".format(ko_positive_count))\n",
    "print (\"약 {}% 의 트윗이 중립적입니다!\".format(ko_neutral_count))\n",
    "print (\"약 {}% 의 트윗이 부정적입니다!\\n\".format(ko_negative_count))\n",
    "\n",
    "print (\"--------------------- 국내 트윗 예시----------------------\")\n",
    "print (\"긍정적 트윗 예시:\\n\", ko_sample_pos)\n",
    "print (\"부정적 트윗 예시:\\n\", ko_sample_neg)    \n",
    "print ()\n",
    "\n",
    "print (\"--------------------- 해외 여론 분석----------------------\")\n",
    "print (\"약 {}% 의 트윗이 긍정적입니다!\".format(en_positive_count))\n",
    "print (\"약 {}% 의 트윗이 중립적입니다!\".format(en_neutral_count))\n",
    "print (\"약 {}% 의 트윗이 부정적입니다!\\n\".format(en_negative_count))\n",
    "\n",
    "print (\"--------------------- 해외 트윗 예시----------------------\")\n",
    "print (\"긍정적 트윗 예시:\\n\", en_sample_pos)\n",
    "print (\"부정적 트윗 예시:\\n\", en_sample_neg)    "
   ]
  },
  {
   "cell_type": "markdown",
   "metadata": {},
   "source": [
    "**기본적인 감정도 분석과 그 비율을 국내/국외별로 확인 해보았습니다.**"
   ]
  },
  {
   "cell_type": "code",
   "execution_count": 152,
   "metadata": {},
   "outputs": [
    {
     "data": {
      "text/plain": [
       "array([<matplotlib.axes._subplots.AxesSubplot object at 0x7f1143859b00>,\n",
       "       <matplotlib.axes._subplots.AxesSubplot object at 0x7f1143801e80>],\n",
       "      dtype=object)"
      ]
     },
     "execution_count": 152,
     "metadata": {},
     "output_type": "execute_result"
    },
    {
     "data": {
      "image/png": "[encoded data removed]",
      "text/plain": [
       "<Figure size 1152x576 with 2 Axes>"
      ]
     },
     "metadata": {},
     "output_type": "display_data"
    }
   ],
   "source": [
    "# DataFrame 구조를 위해 Pandas를 가져옵니다. \n",
    "import pandas as pd\n",
    "\n",
    "# df라는 이름의 DataFrame을 만듭니다. \n",
    "df = pd.DataFrame({'Domestic':[ko_positive_count, ko_neutral_count, ko_negative_count], \n",
    "                   'International':[en_positive_count, en_neutral_count, en_negative_count]}, \n",
    "                    index=['Positive', 'Nueutral', 'Negative'])\n",
    "\n",
    "# 파이차트를 만듭니다. 이쁘라고 RGB파스텔톤 넣었으나 무시하세요.\n",
    "df.plot(kind='pie', subplots=True, figsize=(16,8), colors=['#66b3ff','#99ff99','#ff9999'])"
   ]
  },
  {
   "cell_type": "code",
   "execution_count": null,
   "metadata": {},
   "outputs": [],
   "source": []
  }
 ],
 "metadata": {
  "kernelspec": {
   "display_name": "TensorFlow-GPU",
   "language": "python",
   "name": "tf-gpu"
  },
  "language_info": {
   "codemirror_mode": {
    "name": "ipython",
    "version": 3
   },
   "file_extension": ".py",
   "mimetype": "text/x-python",
   "name": "python",
   "nbconvert_exporter": "python",
   "pygments_lexer": "ipython3",
   "version": "3.6.8"
  }
 },
 "nbformat": 4,
 "nbformat_minor": 2
}
